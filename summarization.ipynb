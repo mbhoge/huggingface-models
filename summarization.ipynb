{
 "cells": [
  {
   "cell_type": "code",
   "execution_count": 1,
   "id": "9802375a",
   "metadata": {},
   "outputs": [
    {
     "name": "stdout",
     "output_type": "stream",
     "text": [
      "Requirement already satisfied: transformers in c:\\users\\manish_bhoge\\anaconda3\\lib\\site-packages (4.16.2)\n",
      "Requirement already satisfied: datasets in c:\\users\\manish_bhoge\\anaconda3\\lib\\site-packages (1.18.3)\n",
      "Collecting evaluate\n",
      "  Downloading evaluate-0.4.0-py3-none-any.whl (81 kB)\n",
      "Collecting rouge_score\n",
      "  Downloading rouge_score-0.1.2.tar.gz (17 kB)\n",
      "Requirement already satisfied: huggingface-hub<1.0,>=0.1.0 in c:\\users\\manish_bhoge\\anaconda3\\lib\\site-packages (from transformers) (0.12.1)\n",
      "Requirement already satisfied: pyyaml>=5.1 in c:\\users\\manish_bhoge\\anaconda3\\lib\\site-packages (from transformers) (6.0)\n",
      "Requirement already satisfied: tokenizers!=0.11.3,>=0.10.1 in c:\\users\\manish_bhoge\\anaconda3\\lib\\site-packages (from transformers) (0.13.2)\n",
      "Requirement already satisfied: regex!=2019.12.17 in c:\\users\\manish_bhoge\\anaconda3\\lib\\site-packages (from transformers) (2022.3.15)\n",
      "Requirement already satisfied: numpy>=1.17 in c:\\users\\manish_bhoge\\anaconda3\\lib\\site-packages (from transformers) (1.21.5)\n",
      "Requirement already satisfied: requests in c:\\users\\manish_bhoge\\anaconda3\\lib\\site-packages (from transformers) (2.27.1)\n",
      "Requirement already satisfied: tqdm>=4.27 in c:\\users\\manish_bhoge\\anaconda3\\lib\\site-packages (from transformers) (4.64.0)\n",
      "Requirement already satisfied: packaging>=20.0 in c:\\users\\manish_bhoge\\anaconda3\\lib\\site-packages (from transformers) (21.3)\n",
      "Requirement already satisfied: sacremoses in c:\\users\\manish_bhoge\\anaconda3\\lib\\site-packages (from transformers) (0.0.53)\n",
      "Requirement already satisfied: filelock in c:\\users\\manish_bhoge\\anaconda3\\lib\\site-packages (from transformers) (3.6.0)\n",
      "Requirement already satisfied: dill in c:\\users\\manish_bhoge\\anaconda3\\lib\\site-packages (from datasets) (0.3.6)\n",
      "Requirement already satisfied: multiprocess in c:\\users\\manish_bhoge\\anaconda3\\lib\\site-packages (from datasets) (0.70.14)\n",
      "Requirement already satisfied: aiohttp in c:\\users\\manish_bhoge\\anaconda3\\lib\\site-packages (from datasets) (3.8.1)\n",
      "Requirement already satisfied: fsspec[http]>=2021.05.0 in c:\\users\\manish_bhoge\\anaconda3\\lib\\site-packages (from datasets) (2022.2.0)\n",
      "Requirement already satisfied: pyarrow!=4.0.0,>=3.0.0 in c:\\users\\manish_bhoge\\anaconda3\\lib\\site-packages (from datasets) (11.0.0)\n",
      "Requirement already satisfied: pandas in c:\\users\\manish_bhoge\\anaconda3\\lib\\site-packages (from datasets) (1.4.2)\n",
      "Requirement already satisfied: xxhash in c:\\users\\manish_bhoge\\anaconda3\\lib\\site-packages (from datasets) (3.2.0)\n",
      "Collecting datasets\n",
      "  Downloading datasets-2.13.0-py3-none-any.whl (485 kB)\n",
      "Collecting responses<0.19\n",
      "  Downloading responses-0.18.0-py3-none-any.whl (38 kB)\n",
      "Requirement already satisfied: absl-py in c:\\users\\manish_bhoge\\anaconda3\\lib\\site-packages (from rouge_score) (1.3.0)\n",
      "Requirement already satisfied: nltk in c:\\users\\manish_bhoge\\anaconda3\\lib\\site-packages (from rouge_score) (3.7)\n",
      "Requirement already satisfied: six>=1.14.0 in c:\\users\\manish_bhoge\\anaconda3\\lib\\site-packages (from rouge_score) (1.16.0)\n",
      "Requirement already satisfied: typing-extensions>=3.7.4.3 in c:\\users\\manish_bhoge\\anaconda3\\lib\\site-packages (from huggingface-hub<1.0,>=0.1.0->transformers) (4.1.1)\n",
      "Requirement already satisfied: pyparsing!=3.0.5,>=2.0.2 in c:\\users\\manish_bhoge\\anaconda3\\lib\\site-packages (from packaging>=20.0->transformers) (3.0.4)\n",
      "Requirement already satisfied: certifi>=2017.4.17 in c:\\users\\manish_bhoge\\anaconda3\\lib\\site-packages (from requests->transformers) (2022.12.7)\n",
      "Requirement already satisfied: urllib3<1.27,>=1.21.1 in c:\\users\\manish_bhoge\\anaconda3\\lib\\site-packages (from requests->transformers) (1.26.9)\n",
      "Requirement already satisfied: charset-normalizer~=2.0.0 in c:\\users\\manish_bhoge\\anaconda3\\lib\\site-packages (from requests->transformers) (2.0.4)\n",
      "Requirement already satisfied: idna<4,>=2.5 in c:\\users\\manish_bhoge\\anaconda3\\lib\\site-packages (from requests->transformers) (3.3)\n",
      "Requirement already satisfied: colorama in c:\\users\\manish_bhoge\\anaconda3\\lib\\site-packages (from tqdm>=4.27->transformers) (0.4.4)\n",
      "Requirement already satisfied: aiosignal>=1.1.2 in c:\\users\\manish_bhoge\\anaconda3\\lib\\site-packages (from aiohttp->datasets) (1.2.0)\n",
      "Requirement already satisfied: frozenlist>=1.1.1 in c:\\users\\manish_bhoge\\anaconda3\\lib\\site-packages (from aiohttp->datasets) (1.2.0)\n",
      "Requirement already satisfied: yarl<2.0,>=1.0 in c:\\users\\manish_bhoge\\anaconda3\\lib\\site-packages (from aiohttp->datasets) (1.6.3)\n",
      "Requirement already satisfied: multidict<7.0,>=4.5 in c:\\users\\manish_bhoge\\anaconda3\\lib\\site-packages (from aiohttp->datasets) (5.1.0)\n",
      "Requirement already satisfied: async-timeout<5.0,>=4.0.0a3 in c:\\users\\manish_bhoge\\anaconda3\\lib\\site-packages (from aiohttp->datasets) (4.0.1)\n",
      "Requirement already satisfied: attrs>=17.3.0 in c:\\users\\manish_bhoge\\anaconda3\\lib\\site-packages (from aiohttp->datasets) (21.4.0)\n",
      "Requirement already satisfied: joblib in c:\\users\\manish_bhoge\\anaconda3\\lib\\site-packages (from nltk->rouge_score) (1.2.0)\n",
      "Requirement already satisfied: click in c:\\users\\manish_bhoge\\anaconda3\\lib\\site-packages (from nltk->rouge_score) (8.0.4)\n",
      "Requirement already satisfied: pytz>=2020.1 in c:\\users\\manish_bhoge\\anaconda3\\lib\\site-packages (from pandas->datasets) (2021.3)\n",
      "Requirement already satisfied: python-dateutil>=2.8.1 in c:\\users\\manish_bhoge\\anaconda3\\lib\\site-packages (from pandas->datasets) (2.8.2)\n",
      "Building wheels for collected packages: rouge-score\n",
      "  Building wheel for rouge-score (setup.py): started\n",
      "  Building wheel for rouge-score (setup.py): finished with status 'done'\n",
      "  Created wheel for rouge-score: filename=rouge_score-0.1.2-py3-none-any.whl size=24955 sha256=d84ba550ed7075970c93db7448452520d8ba038220c20813d382fb3d6659bb05\n",
      "  Stored in directory: c:\\users\\manish_bhoge\\appdata\\local\\pip\\cache\\wheels\\9b\\3d\\39\\09558097d3119ca0a4d462df68f22c6f3c1b345ac63a09b86e\n",
      "Successfully built rouge-score\n",
      "Installing collected packages: responses, datasets, rouge-score, evaluate\n",
      "  Attempting uninstall: datasets\n",
      "    Found existing installation: datasets 1.18.3\n",
      "    Uninstalling datasets-1.18.3:\n",
      "      Successfully uninstalled datasets-1.18.3\n",
      "Successfully installed datasets-2.13.0 evaluate-0.4.0 responses-0.18.0 rouge-score-0.1.2\n",
      "Note: you may need to restart the kernel to use updated packages.\n"
     ]
    }
   ],
   "source": [
    "pip install transformers datasets evaluate rouge_score"
   ]
  },
  {
   "cell_type": "code",
   "execution_count": 1,
   "id": "02046290",
   "metadata": {},
   "outputs": [],
   "source": [
    "from huggingface_hub import notebook_login"
   ]
  },
  {
   "cell_type": "code",
   "execution_count": 3,
   "id": "16a7c172",
   "metadata": {},
   "outputs": [
    {
     "name": "stdout",
     "output_type": "stream",
     "text": [
      "Token is valid.\n",
      "Your token has been saved in your configured git credential helpers (manager-core).\n",
      "Your token has been saved to C:\\Users\\Manish_Bhoge\\.cache\\huggingface\\token\n",
      "Login successful\n"
     ]
    }
   ],
   "source": [
    "notebook_login()"
   ]
  },
  {
   "cell_type": "code",
   "execution_count": 3,
   "id": "e6dfe41f",
   "metadata": {},
   "outputs": [
    {
     "name": "stderr",
     "output_type": "stream",
     "text": [
      "Found cached dataset billsum (C:/Users/Manish_Bhoge/.cache/huggingface/datasets/billsum/default/3.0.0/75cf1719d38d6553aa0e0714c393c74579b083ae6e164b2543684e3e92e0c4cc)\n"
     ]
    }
   ],
   "source": [
    "from datasets import load_dataset\n",
    "\n",
    "billsum = load_dataset(\"billsum\", split=\"ca_test\")"
   ]
  },
  {
   "cell_type": "code",
   "execution_count": 4,
   "id": "17d2d8e0",
   "metadata": {},
   "outputs": [],
   "source": [
    "billsum = billsum.train_test_split(test_size=0.2)"
   ]
  },
  {
   "cell_type": "code",
   "execution_count": 5,
   "id": "23c52e1f",
   "metadata": {},
   "outputs": [
    {
     "data": {
      "text/plain": [
       "{'text': 'The people of the State of California do enact as follows:\\n\\n\\nSECTION 1.\\nSection 1197.5 of the Labor Code is amended to read:\\n1197.5.\\n(a) An employer shall not pay any of its employees at wage rates less than the rates paid to employees of the opposite sex for substantially similar work, when viewed as a composite of skill, effort, and responsibility, and performed under similar working conditions, except where the employer demonstrates:\\n(1) The wage differential is based upon one or more of the following factors:\\n(A) A seniority system.\\n(B) A merit system.\\n(C) A system that measures earnings by quantity or quality of production.\\n(D) A bona fide factor other than sex, such as education, training, or experience. This factor shall apply only if the employer demonstrates that the factor is not based on or derived from a sex-based differential in compensation, is job related with respect to the position in question, and is consistent with a business necessity. For purposes of this subparagraph, “business necessity” means an overriding legitimate business purpose such that the factor relied upon effectively fulfills the business purpose it is supposed to serve. This defense shall not apply if the employee demonstrates that an alternative business practice exists that would serve the same business purpose without producing the wage differential.\\n(2) Each factor relied upon is applied reasonably.\\n(3) The one or more factors relied upon account for the entire wage differential.\\n(b) An employer shall not pay any of its employees at wage rates less than the rates paid to employees of another race or ethnicity for substantially similar work, when viewed as a composite of skill, effort, and responsibility, and performed under similar working conditions, except where the employer demonstrates:\\n(1) The wage differential is based upon one or more of the following factors:\\n(A) A seniority system.\\n(B) A merit system.\\n(C) A system that measures earnings by quantity or quality of production.\\n(D) A bona fide factor other than race or ethnicity, such as education, training, or experience. This factor shall apply only if the employer demonstrates that the factor is not based on or derived from a race- or ethnicity-based differential in compensation, is job related with respect to the position in question, and is consistent with a business necessity. For purposes of this subparagraph, “business necessity” means an overriding legitimate business purpose such that the factor relied upon effectively fulfills the business purpose it is supposed to serve. This defense shall not apply if the employee demonstrates that an alternative business practice exists that would serve the same business purpose without producing the wage differential.\\n(2) Each factor relied upon is applied reasonably.\\n(3) The one or more factors relied upon account for the entire wage differential.\\n(c) Any employer who violates subdivision (a) or (b) is liable to the employee affected in the amount of the wages, and interest thereon, of which the employee is deprived by reason of the violation, and an additional equal amount as liquidated damages.\\n(d) The Division of Labor Standards Enforcement shall administer and enforce this section. If the division finds that an employer has violated this section, it may supervise the payment of wages and interest found to be due and unpaid to employees under subdivision (a) or (b). Acceptance of payment in full made by an employer and approved by the division shall constitute a waiver on the part of the employee of the employee’s cause of action under subdivision (h).\\n(e) Every employer shall maintain records of the wages and wage rates, job classifications, and other terms and conditions of employment of the persons employed by the employer. All of the records shall be kept on file for a period of three years.\\n(f) Any employee may file a complaint with the division that the wages paid are less than the wages to which the employee is entitled under subdivision (a) or (b) or that the employer is in violation of subdivision (k). The complaint shall be investigated as provided in subdivision (b) of Section 98.7. The division shall keep confidential the name of any employee who submits to the division a complaint regarding an alleged violation of subdivision (a), (b), or (k) until the division establishes the validity of the complaint, unless the division must abridge confidentiality to investigate the complaint. The name of the complaining employee shall remain confidential if the complaint is withdrawn before the confidentiality is abridged by the division. The division shall take all proceedings necessary to enforce the payment of any sums found to be due and unpaid to these employees.\\n(g) The department or division may commence and prosecute, unless otherwise requested by the employee or affected group of employees, a civil action on behalf of the employee and on behalf of a similarly affected group of employees to recover unpaid wages and liquidated damages under subdivision (a) or (b), and in addition shall be entitled to recover costs of suit. The consent of any employee to the bringing of any action shall constitute a waiver on the part of the employee of the employee’s cause of action under subdivision (h) unless the action is dismissed without prejudice by the department or the division, except that the employee may intervene in the suit or may initiate independent action if the suit has not been determined within 180 days from the date of the filing of the complaint.\\n(h) An employee receiving less than the wage to which the employee is entitled under this section may recover in a civil action the balance of the wages, including interest thereon, and an equal amount as liquidated damages, together with the costs of the suit and reasonable attorney’s fees, notwithstanding any agreement to work for a lesser wage.\\n(i) A civil action to recover wages under subdivision (a) or (b) may be commenced no later than two years after the cause of action occurs, except that a cause of action arising out of a willful violation may be commenced no later than three years after the cause of action occurs.\\n(j) If an employee recovers amounts due the employee under subdivision (c), and also files a complaint or brings an action under subdivision (d) of Section 206 of Title 29 of the United States Code which results in an additional recovery under federal law for the same violation, the employee shall return to the employer the amounts recovered under subdivision (c), or the amounts recovered under federal law, whichever is less.\\n(k) (1) An employer shall not discharge, or in any manner discriminate or retaliate against, any employee by reason of any action taken by the employee to invoke or assist in any manner the enforcement of this section. An employer shall not prohibit an employee from disclosing the employee’s own wages, discussing the wages of others, inquiring about another employee’s wages, or aiding or encouraging any other employee to exercise his or her rights under this section. Nothing in this section creates an obligation to disclose wages.\\n(2) Any employee who has been discharged, discriminated or retaliated against, in the terms and conditions of his or her employment because the employee engaged in any conduct delineated in this section may recover in a civil action reinstatement and reimbursement for lost wages and work benefits caused by the acts of the employer, including interest thereon, as well as appropriate equitable relief.\\n(3) A civil action brought under this subdivision may be commenced no later than one year after the cause of action occurs.\\nSEC. 1.5.\\nSection 1197.5 of the Labor Code is amended to read:\\n1197.5.\\n(a) An employer shall not pay any of its employees at wage rates less than the rates paid to employees of the opposite sex for substantially similar work, when viewed as a composite of skill, effort, and responsibility, and performed under similar working conditions, except where the employer demonstrates:\\n(1) The wage differential is based upon one or more of the following factors:\\n(A) A seniority system.\\n(B) A merit system.\\n(C) A system that measures earnings by quantity or quality of production.\\n(D) A bona fide factor other than sex, such as education, training, or experience. This factor shall apply only if the employer demonstrates that the factor is not based on or derived from a sex-based differential in compensation, is job related with respect to the position in question, and is consistent with a business necessity. For purposes of this subparagraph, “business necessity” means an overriding legitimate business purpose such that the factor relied upon effectively fulfills the business purpose it is supposed to serve. This defense shall not apply if the employee demonstrates that an alternative business practice exists that would serve the same business purpose without producing the wage differential.\\n(2) Each factor relied upon is applied reasonably.\\n(3) The one or more factors relied upon account for the entire wage differential. Prior salary shall not, by itself, justify any disparity in compensation.\\n(b) An employer shall not pay any of its employees at wage rates less than the rates paid to employees of another race or ethnicity for substantially similar work, when viewed as a composite of skill, effort, and responsibility, and performed under similar working conditions, except where the employer demonstrates:\\n(1) The wage differential is based upon one or more of the following factors:\\n(A) A seniority system.\\n(B) A merit system.\\n(C) A system that measures earnings by quantity or quality of production.\\n(D) A bona fide factor other than race or ethnicity, such as education, training, or experience. This factor shall apply only if the employer demonstrates that the factor is not based on or derived from a race- or ethnicity-based differential in compensation, is job related with respect to the position in question, and is consistent with a business necessity. For purposes of this subparagraph, “business necessity” means an overriding legitimate business purpose such that the factor relied upon effectively fulfills the business purpose it is supposed to serve. This defense shall not apply if the employee demonstrates that an alternative business practice exists that would serve the same business purpose without producing the wage differential.\\n(2) Each factor relied upon is applied reasonably.\\n(3) The one or more factors relied upon account for the entire wage differential. Prior salary shall not, by itself, justify any disparity in compensation.\\n(c) Any employer who violates subdivision (a) or (b) is liable to the employee affected in the amount of the wages, and interest thereon, of which the employee is deprived by reason of the violation, and an additional equal amount as liquidated damages.\\n(d) The Division of Labor Standards Enforcement shall administer and enforce this section. If the division finds that an employer has violated this section, it may supervise the payment of wages and interest found to be due and unpaid to employees under subdivision (a) or (b). Acceptance of payment in full made by an employer and approved by the division shall constitute a waiver on the part of the employee of the employee’s cause of action under subdivision (h).\\n(e) Every employer shall maintain records of the wages and wage rates, job classifications, and other terms and conditions of employment of the persons employed by the employer. All of the records shall be kept on file for a period of three years.\\n(f) Any employee may file a complaint with the division that the wages paid are less than the wages to which the employee is entitled under subdivision (a) or (b) or that the employer is in violation of subdivision (k). The complaint shall be investigated as provided in subdivision (b) of Section 98.7. The division shall keep confidential the name of any employee who submits to the division a complaint regarding an alleged violation of subdivision (a), (b), or (k) until the division establishes the validity of the complaint, unless the division must abridge confidentiality to investigate the complaint. The name of the complaining employee shall remain confidential if the complaint is withdrawn before the confidentiality is abridged by the division. The division shall take all proceedings necessary to enforce the payment of any sums found to be due and unpaid to these employees.\\n(g) The department or division may commence and prosecute, unless otherwise requested by the employee or affected group of employees, a civil action on behalf of the employee and on behalf of a similarly affected group of employees to recover unpaid wages and liquidated damages under subdivision (a) or (b), and in addition shall be entitled to recover costs of suit. The consent of any employee to the bringing of any action shall constitute a waiver on the part of the employee of the employee’s cause of action under subdivision (h) unless the action is dismissed without prejudice by the department or the division, except that the employee may intervene in the suit or may initiate independent action if the suit has not been determined within 180 days from the date of the filing of the complaint.\\n(h) An employee receiving less than the wage to which the employee is entitled under this section may recover in a civil action the balance of the wages, including interest thereon, and an equal amount as liquidated damages, together with the costs of the suit and reasonable attorney’s fees, notwithstanding any agreement to work for a lesser wage.\\n(i) A civil action to recover wages under subdivision (a) or (b) may be commenced no later than two years after the cause of action occurs, except that a cause of action arising out of a willful violation may be commenced no later than three years after the cause of action occurs.\\n(j) If an employee recovers amounts due the employee under subdivision (c), and also files a complaint or brings an action under subdivision (d) of Section 206 of Title 29 of the United States Code which results in an additional recovery under federal law for the same violation, the employee shall return to the employer the amounts recovered under subdivision (c), or the amounts recovered under federal law, whichever is less.\\n(k) (1) An employer shall not discharge, or in any manner discriminate or retaliate against, any employee by reason of any action taken by the employee to invoke or assist in any manner the enforcement of this section. An employer shall not prohibit an employee from disclosing the employee’s own wages, discussing the wages of others, inquiring about another employee’s wages, or aiding or encouraging any other employee to exercise his or her rights under this section. Nothing in this section creates an obligation to disclose wages.\\n(2) Any employee who has been discharged, discriminated or retaliated against, in the terms and conditions of his or her employment because the employee engaged in any conduct delineated in this section may recover in a civil action reinstatement and reimbursement for lost wages and work benefits caused by the acts of the employer, including interest thereon, as well as appropriate equitable relief.\\n(3) A civil action brought under this subdivision may be commenced no later than one year after the cause of action occurs.\\nSEC. 2.\\nSection 1199.5 of the Labor Code is amended to read:\\n1199.5.\\nEvery employer or other person acting either individually or as an officer, agent, or employee of another person is guilty of a misdemeanor and is punishable by a fine of not more than ten thousand dollars ($10,000), or by imprisonment for not more than six months, or by both, who willfully does any of the following:\\n(a) Pays or causes to be paid any employee a wage less than the rate paid to an employee of another sex, race, or ethnicity, as required by Section 1197.5.\\n(b) Reduces the wages of any employee in order to comply with Section 1197.5.\\nNo person shall be imprisoned pursuant to this section except for an offense committed after the conviction of the person for a prior offense pursuant to this section.\\nSEC. 3.\\nSection 1.5 of this bill incorporates amendments to Section 1197.5 of the Labor Code proposed by both this bill and Assembly Bill 1676. It shall only become operative if (1) both bills are enacted and become effective on or before January 1, 2017, (2) each bill amends Section 1197.5 of the Labor Code, and (3) this bill is enacted after Assembly Bill 1676, in which case Section 1 of this bill shall not become operative.\\nSEC. 4.\\nNo reimbursement is required by this act pursuant to Section 6 of Article XIII\\u2009B of the California Constitution because the only costs that may be incurred by a local agency or school district will be incurred because this act creates a new crime or infraction, eliminates a crime or infraction, or changes the penalty for a crime or infraction, within the meaning of Section 17556 of the Government Code, or changes the definition of a crime within the meaning of Section 6 of Article XIII\\u2009B of the California Constitution.',\n",
       " 'summary': 'Existing law prohibits an employer from paying any of its employees at wage rates less than the rates paid to employees of the opposite sex for substantially similar work, when viewed as a composite of skill, effort, and responsibility, and performed under similar working conditions, unless the employer demonstrates that specific, reasonably applied factors account for the entire wage differential. Existing law authorizes an employee paid lesser wages in violation of this prohibition to file a complaint with the Division of Labor Standards Enforcement, and authorizes the employee, the division, or the Department of Industrial Relations to commence a civil action for the wages the employee was deprived of because of the violation, interest on those wages, and liquidated damages. Under existing law, an employer or other person who violates or causes a violation of that prohibition, or who reduces the wages of any employee in order to comply with that prohibition, is guilty of a misdemeanor.\\nThis bill would also prohibit an employer from paying any of its employees at wage rates less than the rates paid to employees of another race or ethnicity for substantially similar work, as specified above. By expanding the scope of a crime, this bill would impose a state-mandated local program.\\nThis bill would incorporate additional changes in Section 1197.5 of the Labor Code proposed by AB 1676 that would become operative only if AB 1676 and this bill are both chaptered and become effective on or before January 1, 2017, and this bill is chaptered last.\\nThe California Constitution requires the state to reimburse local agencies and school districts for certain costs mandated by the state. Statutory provisions establish procedures for making that reimbursement.\\nThis bill would provide that no reimbursement is required by this act for a specified reason.',\n",
       " 'title': 'An act to amend Sections 1197.5 and 1199.5 of the Labor Code, relating to employment.'}"
      ]
     },
     "execution_count": 5,
     "metadata": {},
     "output_type": "execute_result"
    }
   ],
   "source": [
    "billsum[\"train\"][0]"
   ]
  },
  {
   "cell_type": "code",
   "execution_count": 14,
   "id": "797c1a5e",
   "metadata": {},
   "outputs": [
    {
     "data": {
      "text/plain": [
       "DatasetDict({\n",
       "    train: Dataset({\n",
       "        features: ['text', 'summary', 'title'],\n",
       "        num_rows: 989\n",
       "    })\n",
       "    test: Dataset({\n",
       "        features: ['text', 'summary', 'title'],\n",
       "        num_rows: 248\n",
       "    })\n",
       "})"
      ]
     },
     "execution_count": 14,
     "metadata": {},
     "output_type": "execute_result"
    }
   ],
   "source": [
    "billsum"
   ]
  },
  {
   "cell_type": "markdown",
   "id": "37f5275f",
   "metadata": {},
   "source": [
    "There are two fields that you’ll want to use:\n",
    "\n",
    "    text: the text of the bill which’ll be the input to the model.\n",
    "    summary: a condensed version of text which’ll be the model target."
   ]
  },
  {
   "cell_type": "code",
   "execution_count": 15,
   "id": "632a9406",
   "metadata": {},
   "outputs": [],
   "source": [
    "from transformers import AutoTokenizer\n",
    "\n",
    "checkpoint = \"t5-small\"\n",
    "tokenizer = AutoTokenizer.from_pretrained(checkpoint)"
   ]
  },
  {
   "cell_type": "markdown",
   "id": "c91644cf",
   "metadata": {},
   "source": [
    "# Proper Prompting is required as some models are trained to do multiple tasks \n",
    "The preprocessing function you want to create needs to:\n",
    "\n",
    "    Prefix the input with a prompt so T5 knows this is a summarization task. Some models capable of multiple NLP tasks require prompting for specific tasks.\n",
    "    Use the keyword text_target argument when tokenizing labels.\n",
    "    Truncate sequences to be no longer than the maximum length set by the max_length parameter."
   ]
  },
  {
   "cell_type": "code",
   "execution_count": 16,
   "id": "dffbee96",
   "metadata": {},
   "outputs": [],
   "source": [
    "prefix = \"summarize: \"\n",
    "\n",
    "\n",
    "def preprocess_function(examples):\n",
    "    inputs = [prefix + doc for doc in examples[\"text\"]]\n",
    "    model_inputs = tokenizer(inputs, max_length=1024, truncation=True)\n",
    "\n",
    "    labels = tokenizer(text_target=examples[\"summary\"], max_length=128, truncation=True)\n",
    "\n",
    "    model_inputs[\"labels\"] = labels[\"input_ids\"]\n",
    "    return model_inputs"
   ]
  },
  {
   "cell_type": "code",
   "execution_count": 17,
   "id": "896f5959",
   "metadata": {},
   "outputs": [
    {
     "data": {
      "application/vnd.jupyter.widget-view+json": {
       "model_id": "aa70f537e90d41fb890ab40408f9952b",
       "version_major": 2,
       "version_minor": 0
      },
      "text/plain": [
       "Map:   0%|          | 0/989 [00:00<?, ? examples/s]"
      ]
     },
     "metadata": {},
     "output_type": "display_data"
    },
    {
     "ename": "TypeError",
     "evalue": "__call__() missing 1 required positional argument: 'text'",
     "output_type": "error",
     "traceback": [
      "\u001b[1;31m---------------------------------------------------------------------------\u001b[0m",
      "\u001b[1;31mTypeError\u001b[0m                                 Traceback (most recent call last)",
      "Input \u001b[1;32mIn [17]\u001b[0m, in \u001b[0;36m<cell line: 1>\u001b[1;34m()\u001b[0m\n\u001b[1;32m----> 1\u001b[0m tokenized_billsum \u001b[38;5;241m=\u001b[39m \u001b[43mbillsum\u001b[49m\u001b[38;5;241;43m.\u001b[39;49m\u001b[43mmap\u001b[49m\u001b[43m(\u001b[49m\u001b[43mpreprocess_function\u001b[49m\u001b[43m,\u001b[49m\u001b[43m \u001b[49m\u001b[43mbatched\u001b[49m\u001b[38;5;241;43m=\u001b[39;49m\u001b[38;5;28;43;01mTrue\u001b[39;49;00m\u001b[43m)\u001b[49m\n",
      "File \u001b[1;32m~\\Anaconda3\\lib\\site-packages\\datasets\\dataset_dict.py:851\u001b[0m, in \u001b[0;36mDatasetDict.map\u001b[1;34m(self, function, with_indices, with_rank, input_columns, batched, batch_size, drop_last_batch, remove_columns, keep_in_memory, load_from_cache_file, cache_file_names, writer_batch_size, features, disable_nullable, fn_kwargs, num_proc, desc)\u001b[0m\n\u001b[0;32m    848\u001b[0m \u001b[38;5;28;01mif\u001b[39;00m cache_file_names \u001b[38;5;129;01mis\u001b[39;00m \u001b[38;5;28;01mNone\u001b[39;00m:\n\u001b[0;32m    849\u001b[0m     cache_file_names \u001b[38;5;241m=\u001b[39m {k: \u001b[38;5;28;01mNone\u001b[39;00m \u001b[38;5;28;01mfor\u001b[39;00m k \u001b[38;5;129;01min\u001b[39;00m \u001b[38;5;28mself\u001b[39m}\n\u001b[0;32m    850\u001b[0m \u001b[38;5;28;01mreturn\u001b[39;00m DatasetDict(\n\u001b[1;32m--> 851\u001b[0m     {\n\u001b[0;32m    852\u001b[0m         k: dataset\u001b[38;5;241m.\u001b[39mmap(\n\u001b[0;32m    853\u001b[0m             function\u001b[38;5;241m=\u001b[39mfunction,\n\u001b[0;32m    854\u001b[0m             with_indices\u001b[38;5;241m=\u001b[39mwith_indices,\n\u001b[0;32m    855\u001b[0m             with_rank\u001b[38;5;241m=\u001b[39mwith_rank,\n\u001b[0;32m    856\u001b[0m             input_columns\u001b[38;5;241m=\u001b[39minput_columns,\n\u001b[0;32m    857\u001b[0m             batched\u001b[38;5;241m=\u001b[39mbatched,\n\u001b[0;32m    858\u001b[0m             batch_size\u001b[38;5;241m=\u001b[39mbatch_size,\n\u001b[0;32m    859\u001b[0m             drop_last_batch\u001b[38;5;241m=\u001b[39mdrop_last_batch,\n\u001b[0;32m    860\u001b[0m             remove_columns\u001b[38;5;241m=\u001b[39mremove_columns,\n\u001b[0;32m    861\u001b[0m             keep_in_memory\u001b[38;5;241m=\u001b[39mkeep_in_memory,\n\u001b[0;32m    862\u001b[0m             load_from_cache_file\u001b[38;5;241m=\u001b[39mload_from_cache_file,\n\u001b[0;32m    863\u001b[0m             cache_file_name\u001b[38;5;241m=\u001b[39mcache_file_names[k],\n\u001b[0;32m    864\u001b[0m             writer_batch_size\u001b[38;5;241m=\u001b[39mwriter_batch_size,\n\u001b[0;32m    865\u001b[0m             features\u001b[38;5;241m=\u001b[39mfeatures,\n\u001b[0;32m    866\u001b[0m             disable_nullable\u001b[38;5;241m=\u001b[39mdisable_nullable,\n\u001b[0;32m    867\u001b[0m             fn_kwargs\u001b[38;5;241m=\u001b[39mfn_kwargs,\n\u001b[0;32m    868\u001b[0m             num_proc\u001b[38;5;241m=\u001b[39mnum_proc,\n\u001b[0;32m    869\u001b[0m             desc\u001b[38;5;241m=\u001b[39mdesc,\n\u001b[0;32m    870\u001b[0m         )\n\u001b[0;32m    871\u001b[0m         \u001b[38;5;28;01mfor\u001b[39;00m k, dataset \u001b[38;5;129;01min\u001b[39;00m \u001b[38;5;28mself\u001b[39m\u001b[38;5;241m.\u001b[39mitems()\n\u001b[0;32m    872\u001b[0m     }\n\u001b[0;32m    873\u001b[0m )\n",
      "File \u001b[1;32m~\\Anaconda3\\lib\\site-packages\\datasets\\dataset_dict.py:852\u001b[0m, in \u001b[0;36m<dictcomp>\u001b[1;34m(.0)\u001b[0m\n\u001b[0;32m    848\u001b[0m \u001b[38;5;28;01mif\u001b[39;00m cache_file_names \u001b[38;5;129;01mis\u001b[39;00m \u001b[38;5;28;01mNone\u001b[39;00m:\n\u001b[0;32m    849\u001b[0m     cache_file_names \u001b[38;5;241m=\u001b[39m {k: \u001b[38;5;28;01mNone\u001b[39;00m \u001b[38;5;28;01mfor\u001b[39;00m k \u001b[38;5;129;01min\u001b[39;00m \u001b[38;5;28mself\u001b[39m}\n\u001b[0;32m    850\u001b[0m \u001b[38;5;28;01mreturn\u001b[39;00m DatasetDict(\n\u001b[0;32m    851\u001b[0m     {\n\u001b[1;32m--> 852\u001b[0m         k: \u001b[43mdataset\u001b[49m\u001b[38;5;241;43m.\u001b[39;49m\u001b[43mmap\u001b[49m\u001b[43m(\u001b[49m\n\u001b[0;32m    853\u001b[0m \u001b[43m            \u001b[49m\u001b[43mfunction\u001b[49m\u001b[38;5;241;43m=\u001b[39;49m\u001b[43mfunction\u001b[49m\u001b[43m,\u001b[49m\n\u001b[0;32m    854\u001b[0m \u001b[43m            \u001b[49m\u001b[43mwith_indices\u001b[49m\u001b[38;5;241;43m=\u001b[39;49m\u001b[43mwith_indices\u001b[49m\u001b[43m,\u001b[49m\n\u001b[0;32m    855\u001b[0m \u001b[43m            \u001b[49m\u001b[43mwith_rank\u001b[49m\u001b[38;5;241;43m=\u001b[39;49m\u001b[43mwith_rank\u001b[49m\u001b[43m,\u001b[49m\n\u001b[0;32m    856\u001b[0m \u001b[43m            \u001b[49m\u001b[43minput_columns\u001b[49m\u001b[38;5;241;43m=\u001b[39;49m\u001b[43minput_columns\u001b[49m\u001b[43m,\u001b[49m\n\u001b[0;32m    857\u001b[0m \u001b[43m            \u001b[49m\u001b[43mbatched\u001b[49m\u001b[38;5;241;43m=\u001b[39;49m\u001b[43mbatched\u001b[49m\u001b[43m,\u001b[49m\n\u001b[0;32m    858\u001b[0m \u001b[43m            \u001b[49m\u001b[43mbatch_size\u001b[49m\u001b[38;5;241;43m=\u001b[39;49m\u001b[43mbatch_size\u001b[49m\u001b[43m,\u001b[49m\n\u001b[0;32m    859\u001b[0m \u001b[43m            \u001b[49m\u001b[43mdrop_last_batch\u001b[49m\u001b[38;5;241;43m=\u001b[39;49m\u001b[43mdrop_last_batch\u001b[49m\u001b[43m,\u001b[49m\n\u001b[0;32m    860\u001b[0m \u001b[43m            \u001b[49m\u001b[43mremove_columns\u001b[49m\u001b[38;5;241;43m=\u001b[39;49m\u001b[43mremove_columns\u001b[49m\u001b[43m,\u001b[49m\n\u001b[0;32m    861\u001b[0m \u001b[43m            \u001b[49m\u001b[43mkeep_in_memory\u001b[49m\u001b[38;5;241;43m=\u001b[39;49m\u001b[43mkeep_in_memory\u001b[49m\u001b[43m,\u001b[49m\n\u001b[0;32m    862\u001b[0m \u001b[43m            \u001b[49m\u001b[43mload_from_cache_file\u001b[49m\u001b[38;5;241;43m=\u001b[39;49m\u001b[43mload_from_cache_file\u001b[49m\u001b[43m,\u001b[49m\n\u001b[0;32m    863\u001b[0m \u001b[43m            \u001b[49m\u001b[43mcache_file_name\u001b[49m\u001b[38;5;241;43m=\u001b[39;49m\u001b[43mcache_file_names\u001b[49m\u001b[43m[\u001b[49m\u001b[43mk\u001b[49m\u001b[43m]\u001b[49m\u001b[43m,\u001b[49m\n\u001b[0;32m    864\u001b[0m \u001b[43m            \u001b[49m\u001b[43mwriter_batch_size\u001b[49m\u001b[38;5;241;43m=\u001b[39;49m\u001b[43mwriter_batch_size\u001b[49m\u001b[43m,\u001b[49m\n\u001b[0;32m    865\u001b[0m \u001b[43m            \u001b[49m\u001b[43mfeatures\u001b[49m\u001b[38;5;241;43m=\u001b[39;49m\u001b[43mfeatures\u001b[49m\u001b[43m,\u001b[49m\n\u001b[0;32m    866\u001b[0m \u001b[43m            \u001b[49m\u001b[43mdisable_nullable\u001b[49m\u001b[38;5;241;43m=\u001b[39;49m\u001b[43mdisable_nullable\u001b[49m\u001b[43m,\u001b[49m\n\u001b[0;32m    867\u001b[0m \u001b[43m            \u001b[49m\u001b[43mfn_kwargs\u001b[49m\u001b[38;5;241;43m=\u001b[39;49m\u001b[43mfn_kwargs\u001b[49m\u001b[43m,\u001b[49m\n\u001b[0;32m    868\u001b[0m \u001b[43m            \u001b[49m\u001b[43mnum_proc\u001b[49m\u001b[38;5;241;43m=\u001b[39;49m\u001b[43mnum_proc\u001b[49m\u001b[43m,\u001b[49m\n\u001b[0;32m    869\u001b[0m \u001b[43m            \u001b[49m\u001b[43mdesc\u001b[49m\u001b[38;5;241;43m=\u001b[39;49m\u001b[43mdesc\u001b[49m\u001b[43m,\u001b[49m\n\u001b[0;32m    870\u001b[0m \u001b[43m        \u001b[49m\u001b[43m)\u001b[49m\n\u001b[0;32m    871\u001b[0m         \u001b[38;5;28;01mfor\u001b[39;00m k, dataset \u001b[38;5;129;01min\u001b[39;00m \u001b[38;5;28mself\u001b[39m\u001b[38;5;241m.\u001b[39mitems()\n\u001b[0;32m    872\u001b[0m     }\n\u001b[0;32m    873\u001b[0m )\n",
      "File \u001b[1;32m~\\Anaconda3\\lib\\site-packages\\datasets\\arrow_dataset.py:580\u001b[0m, in \u001b[0;36mtransmit_tasks.<locals>.wrapper\u001b[1;34m(*args, **kwargs)\u001b[0m\n\u001b[0;32m    578\u001b[0m     \u001b[38;5;28mself\u001b[39m: \u001b[38;5;124m\"\u001b[39m\u001b[38;5;124mDataset\u001b[39m\u001b[38;5;124m\"\u001b[39m \u001b[38;5;241m=\u001b[39m kwargs\u001b[38;5;241m.\u001b[39mpop(\u001b[38;5;124m\"\u001b[39m\u001b[38;5;124mself\u001b[39m\u001b[38;5;124m\"\u001b[39m)\n\u001b[0;32m    579\u001b[0m \u001b[38;5;66;03m# apply actual function\u001b[39;00m\n\u001b[1;32m--> 580\u001b[0m out: Union[\u001b[38;5;124m\"\u001b[39m\u001b[38;5;124mDataset\u001b[39m\u001b[38;5;124m\"\u001b[39m, \u001b[38;5;124m\"\u001b[39m\u001b[38;5;124mDatasetDict\u001b[39m\u001b[38;5;124m\"\u001b[39m] \u001b[38;5;241m=\u001b[39m func(\u001b[38;5;28mself\u001b[39m, \u001b[38;5;241m*\u001b[39margs, \u001b[38;5;241m*\u001b[39m\u001b[38;5;241m*\u001b[39mkwargs)\n\u001b[0;32m    581\u001b[0m datasets: List[\u001b[38;5;124m\"\u001b[39m\u001b[38;5;124mDataset\u001b[39m\u001b[38;5;124m\"\u001b[39m] \u001b[38;5;241m=\u001b[39m \u001b[38;5;28mlist\u001b[39m(out\u001b[38;5;241m.\u001b[39mvalues()) \u001b[38;5;28;01mif\u001b[39;00m \u001b[38;5;28misinstance\u001b[39m(out, \u001b[38;5;28mdict\u001b[39m) \u001b[38;5;28;01melse\u001b[39;00m [out]\n\u001b[0;32m    582\u001b[0m \u001b[38;5;28;01mfor\u001b[39;00m dataset \u001b[38;5;129;01min\u001b[39;00m datasets:\n\u001b[0;32m    583\u001b[0m     \u001b[38;5;66;03m# Remove task templates if a column mapping of the template is no longer valid\u001b[39;00m\n",
      "File \u001b[1;32m~\\Anaconda3\\lib\\site-packages\\datasets\\arrow_dataset.py:545\u001b[0m, in \u001b[0;36mtransmit_format.<locals>.wrapper\u001b[1;34m(*args, **kwargs)\u001b[0m\n\u001b[0;32m    538\u001b[0m self_format \u001b[38;5;241m=\u001b[39m {\n\u001b[0;32m    539\u001b[0m     \u001b[38;5;124m\"\u001b[39m\u001b[38;5;124mtype\u001b[39m\u001b[38;5;124m\"\u001b[39m: \u001b[38;5;28mself\u001b[39m\u001b[38;5;241m.\u001b[39m_format_type,\n\u001b[0;32m    540\u001b[0m     \u001b[38;5;124m\"\u001b[39m\u001b[38;5;124mformat_kwargs\u001b[39m\u001b[38;5;124m\"\u001b[39m: \u001b[38;5;28mself\u001b[39m\u001b[38;5;241m.\u001b[39m_format_kwargs,\n\u001b[0;32m    541\u001b[0m     \u001b[38;5;124m\"\u001b[39m\u001b[38;5;124mcolumns\u001b[39m\u001b[38;5;124m\"\u001b[39m: \u001b[38;5;28mself\u001b[39m\u001b[38;5;241m.\u001b[39m_format_columns,\n\u001b[0;32m    542\u001b[0m     \u001b[38;5;124m\"\u001b[39m\u001b[38;5;124moutput_all_columns\u001b[39m\u001b[38;5;124m\"\u001b[39m: \u001b[38;5;28mself\u001b[39m\u001b[38;5;241m.\u001b[39m_output_all_columns,\n\u001b[0;32m    543\u001b[0m }\n\u001b[0;32m    544\u001b[0m \u001b[38;5;66;03m# apply actual function\u001b[39;00m\n\u001b[1;32m--> 545\u001b[0m out: Union[\u001b[38;5;124m\"\u001b[39m\u001b[38;5;124mDataset\u001b[39m\u001b[38;5;124m\"\u001b[39m, \u001b[38;5;124m\"\u001b[39m\u001b[38;5;124mDatasetDict\u001b[39m\u001b[38;5;124m\"\u001b[39m] \u001b[38;5;241m=\u001b[39m func(\u001b[38;5;28mself\u001b[39m, \u001b[38;5;241m*\u001b[39margs, \u001b[38;5;241m*\u001b[39m\u001b[38;5;241m*\u001b[39mkwargs)\n\u001b[0;32m    546\u001b[0m datasets: List[\u001b[38;5;124m\"\u001b[39m\u001b[38;5;124mDataset\u001b[39m\u001b[38;5;124m\"\u001b[39m] \u001b[38;5;241m=\u001b[39m \u001b[38;5;28mlist\u001b[39m(out\u001b[38;5;241m.\u001b[39mvalues()) \u001b[38;5;28;01mif\u001b[39;00m \u001b[38;5;28misinstance\u001b[39m(out, \u001b[38;5;28mdict\u001b[39m) \u001b[38;5;28;01melse\u001b[39;00m [out]\n\u001b[0;32m    547\u001b[0m \u001b[38;5;66;03m# re-apply format to the output\u001b[39;00m\n",
      "File \u001b[1;32m~\\Anaconda3\\lib\\site-packages\\datasets\\arrow_dataset.py:3087\u001b[0m, in \u001b[0;36mDataset.map\u001b[1;34m(self, function, with_indices, with_rank, input_columns, batched, batch_size, drop_last_batch, remove_columns, keep_in_memory, load_from_cache_file, cache_file_name, writer_batch_size, features, disable_nullable, fn_kwargs, num_proc, suffix_template, new_fingerprint, desc)\u001b[0m\n\u001b[0;32m   3079\u001b[0m \u001b[38;5;28;01mif\u001b[39;00m transformed_dataset \u001b[38;5;129;01mis\u001b[39;00m \u001b[38;5;28;01mNone\u001b[39;00m:\n\u001b[0;32m   3080\u001b[0m     \u001b[38;5;28;01mwith\u001b[39;00m logging\u001b[38;5;241m.\u001b[39mtqdm(\n\u001b[0;32m   3081\u001b[0m         disable\u001b[38;5;241m=\u001b[39m\u001b[38;5;129;01mnot\u001b[39;00m logging\u001b[38;5;241m.\u001b[39mis_progress_bar_enabled(),\n\u001b[0;32m   3082\u001b[0m         unit\u001b[38;5;241m=\u001b[39m\u001b[38;5;124m\"\u001b[39m\u001b[38;5;124m examples\u001b[39m\u001b[38;5;124m\"\u001b[39m,\n\u001b[1;32m   (...)\u001b[0m\n\u001b[0;32m   3085\u001b[0m         desc\u001b[38;5;241m=\u001b[39mdesc \u001b[38;5;129;01mor\u001b[39;00m \u001b[38;5;124m\"\u001b[39m\u001b[38;5;124mMap\u001b[39m\u001b[38;5;124m\"\u001b[39m,\n\u001b[0;32m   3086\u001b[0m     ) \u001b[38;5;28;01mas\u001b[39;00m pbar:\n\u001b[1;32m-> 3087\u001b[0m         \u001b[38;5;28;01mfor\u001b[39;00m rank, done, content \u001b[38;5;129;01min\u001b[39;00m Dataset\u001b[38;5;241m.\u001b[39m_map_single(\u001b[38;5;241m*\u001b[39m\u001b[38;5;241m*\u001b[39mdataset_kwargs):\n\u001b[0;32m   3088\u001b[0m             \u001b[38;5;28;01mif\u001b[39;00m done:\n\u001b[0;32m   3089\u001b[0m                 shards_done \u001b[38;5;241m+\u001b[39m\u001b[38;5;241m=\u001b[39m \u001b[38;5;241m1\u001b[39m\n",
      "File \u001b[1;32m~\\Anaconda3\\lib\\site-packages\\datasets\\arrow_dataset.py:3463\u001b[0m, in \u001b[0;36mDataset._map_single\u001b[1;34m(shard, function, with_indices, with_rank, input_columns, batched, batch_size, drop_last_batch, remove_columns, keep_in_memory, cache_file_name, writer_batch_size, features, disable_nullable, fn_kwargs, new_fingerprint, rank, offset)\u001b[0m\n\u001b[0;32m   3459\u001b[0m indices \u001b[38;5;241m=\u001b[39m \u001b[38;5;28mlist\u001b[39m(\n\u001b[0;32m   3460\u001b[0m     \u001b[38;5;28mrange\u001b[39m(\u001b[38;5;241m*\u001b[39m(\u001b[38;5;28mslice\u001b[39m(i, i \u001b[38;5;241m+\u001b[39m batch_size)\u001b[38;5;241m.\u001b[39mindices(shard\u001b[38;5;241m.\u001b[39mnum_rows)))\n\u001b[0;32m   3461\u001b[0m )  \u001b[38;5;66;03m# Something simpler?\u001b[39;00m\n\u001b[0;32m   3462\u001b[0m \u001b[38;5;28;01mtry\u001b[39;00m:\n\u001b[1;32m-> 3463\u001b[0m     batch \u001b[38;5;241m=\u001b[39m \u001b[43mapply_function_on_filtered_inputs\u001b[49m\u001b[43m(\u001b[49m\n\u001b[0;32m   3464\u001b[0m \u001b[43m        \u001b[49m\u001b[43mbatch\u001b[49m\u001b[43m,\u001b[49m\n\u001b[0;32m   3465\u001b[0m \u001b[43m        \u001b[49m\u001b[43mindices\u001b[49m\u001b[43m,\u001b[49m\n\u001b[0;32m   3466\u001b[0m \u001b[43m        \u001b[49m\u001b[43mcheck_same_num_examples\u001b[49m\u001b[38;5;241;43m=\u001b[39;49m\u001b[38;5;28;43mlen\u001b[39;49m\u001b[43m(\u001b[49m\u001b[43mshard\u001b[49m\u001b[38;5;241;43m.\u001b[39;49m\u001b[43mlist_indexes\u001b[49m\u001b[43m(\u001b[49m\u001b[43m)\u001b[49m\u001b[43m)\u001b[49m\u001b[43m \u001b[49m\u001b[38;5;241;43m>\u001b[39;49m\u001b[43m \u001b[49m\u001b[38;5;241;43m0\u001b[39;49m\u001b[43m,\u001b[49m\n\u001b[0;32m   3467\u001b[0m \u001b[43m        \u001b[49m\u001b[43moffset\u001b[49m\u001b[38;5;241;43m=\u001b[39;49m\u001b[43moffset\u001b[49m\u001b[43m,\u001b[49m\n\u001b[0;32m   3468\u001b[0m \u001b[43m    \u001b[49m\u001b[43m)\u001b[49m\n\u001b[0;32m   3469\u001b[0m \u001b[38;5;28;01mexcept\u001b[39;00m NumExamplesMismatchError:\n\u001b[0;32m   3470\u001b[0m     \u001b[38;5;28;01mraise\u001b[39;00m DatasetTransformationNotAllowedError(\n\u001b[0;32m   3471\u001b[0m         \u001b[38;5;124m\"\u001b[39m\u001b[38;5;124mUsing `.map` in batched mode on a dataset with attached indexes is allowed only if it doesn\u001b[39m\u001b[38;5;124m'\u001b[39m\u001b[38;5;124mt create or remove existing examples. You can first run `.drop_index() to remove your index and then re-add it.\u001b[39m\u001b[38;5;124m\"\u001b[39m\n\u001b[0;32m   3472\u001b[0m     ) \u001b[38;5;28;01mfrom\u001b[39;00m \u001b[38;5;28mNone\u001b[39m\n",
      "File \u001b[1;32m~\\Anaconda3\\lib\\site-packages\\datasets\\arrow_dataset.py:3344\u001b[0m, in \u001b[0;36mDataset._map_single.<locals>.apply_function_on_filtered_inputs\u001b[1;34m(pa_inputs, indices, check_same_num_examples, offset)\u001b[0m\n\u001b[0;32m   3342\u001b[0m \u001b[38;5;28;01mif\u001b[39;00m with_rank:\n\u001b[0;32m   3343\u001b[0m     additional_args \u001b[38;5;241m+\u001b[39m\u001b[38;5;241m=\u001b[39m (rank,)\n\u001b[1;32m-> 3344\u001b[0m processed_inputs \u001b[38;5;241m=\u001b[39m function(\u001b[38;5;241m*\u001b[39mfn_args, \u001b[38;5;241m*\u001b[39madditional_args, \u001b[38;5;241m*\u001b[39m\u001b[38;5;241m*\u001b[39mfn_kwargs)\n\u001b[0;32m   3345\u001b[0m \u001b[38;5;28;01mif\u001b[39;00m \u001b[38;5;28misinstance\u001b[39m(processed_inputs, LazyDict):\n\u001b[0;32m   3346\u001b[0m     processed_inputs \u001b[38;5;241m=\u001b[39m {\n\u001b[0;32m   3347\u001b[0m         k: v \u001b[38;5;28;01mfor\u001b[39;00m k, v \u001b[38;5;129;01min\u001b[39;00m processed_inputs\u001b[38;5;241m.\u001b[39mdata\u001b[38;5;241m.\u001b[39mitems() \u001b[38;5;28;01mif\u001b[39;00m k \u001b[38;5;129;01mnot\u001b[39;00m \u001b[38;5;129;01min\u001b[39;00m processed_inputs\u001b[38;5;241m.\u001b[39mkeys_to_format\n\u001b[0;32m   3348\u001b[0m     }\n",
      "Input \u001b[1;32mIn [16]\u001b[0m, in \u001b[0;36mpreprocess_function\u001b[1;34m(examples)\u001b[0m\n\u001b[0;32m      5\u001b[0m inputs \u001b[38;5;241m=\u001b[39m [prefix \u001b[38;5;241m+\u001b[39m doc \u001b[38;5;28;01mfor\u001b[39;00m doc \u001b[38;5;129;01min\u001b[39;00m examples[\u001b[38;5;124m\"\u001b[39m\u001b[38;5;124mtext\u001b[39m\u001b[38;5;124m\"\u001b[39m]]\n\u001b[0;32m      6\u001b[0m model_inputs \u001b[38;5;241m=\u001b[39m tokenizer(inputs, max_length\u001b[38;5;241m=\u001b[39m\u001b[38;5;241m1024\u001b[39m, truncation\u001b[38;5;241m=\u001b[39m\u001b[38;5;28;01mTrue\u001b[39;00m)\n\u001b[1;32m----> 8\u001b[0m labels \u001b[38;5;241m=\u001b[39m \u001b[43mtokenizer\u001b[49m\u001b[43m(\u001b[49m\u001b[43mtext_target\u001b[49m\u001b[38;5;241;43m=\u001b[39;49m\u001b[43mexamples\u001b[49m\u001b[43m[\u001b[49m\u001b[38;5;124;43m\"\u001b[39;49m\u001b[38;5;124;43msummary\u001b[39;49m\u001b[38;5;124;43m\"\u001b[39;49m\u001b[43m]\u001b[49m\u001b[43m,\u001b[49m\u001b[43m \u001b[49m\u001b[43mmax_length\u001b[49m\u001b[38;5;241;43m=\u001b[39;49m\u001b[38;5;241;43m128\u001b[39;49m\u001b[43m,\u001b[49m\u001b[43m \u001b[49m\u001b[43mtruncation\u001b[49m\u001b[38;5;241;43m=\u001b[39;49m\u001b[38;5;28;43;01mTrue\u001b[39;49;00m\u001b[43m)\u001b[49m\n\u001b[0;32m     10\u001b[0m model_inputs[\u001b[38;5;124m\"\u001b[39m\u001b[38;5;124mlabels\u001b[39m\u001b[38;5;124m\"\u001b[39m] \u001b[38;5;241m=\u001b[39m labels[\u001b[38;5;124m\"\u001b[39m\u001b[38;5;124minput_ids\u001b[39m\u001b[38;5;124m\"\u001b[39m]\n\u001b[0;32m     11\u001b[0m \u001b[38;5;28;01mreturn\u001b[39;00m model_inputs\n",
      "\u001b[1;31mTypeError\u001b[0m: __call__() missing 1 required positional argument: 'text'"
     ]
    }
   ],
   "source": [
    "tokenized_billsum = billsum.map(preprocess_function, batched=True)"
   ]
  },
  {
   "cell_type": "code",
   "execution_count": null,
   "id": "6db2c42e",
   "metadata": {},
   "outputs": [],
   "source": []
  }
 ],
 "metadata": {
  "kernelspec": {
   "display_name": "Python 3 (ipykernel)",
   "language": "python",
   "name": "python3"
  },
  "language_info": {
   "codemirror_mode": {
    "name": "ipython",
    "version": 3
   },
   "file_extension": ".py",
   "mimetype": "text/x-python",
   "name": "python",
   "nbconvert_exporter": "python",
   "pygments_lexer": "ipython3",
   "version": "3.9.12"
  }
 },
 "nbformat": 4,
 "nbformat_minor": 5
}
